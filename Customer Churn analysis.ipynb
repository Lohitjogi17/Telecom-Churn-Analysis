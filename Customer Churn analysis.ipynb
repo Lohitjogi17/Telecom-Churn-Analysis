{
 "cells": [
  {
   "cell_type": "code",
   "execution_count": null,
   "id": "ae712d4a-360a-45ef-b4f3-6fbc58431cdd",
   "metadata": {},
   "outputs": [],
   "source": []
  }
 ],
 "metadata": {
  "kernelspec": {
   "display_name": "",
   "name": ""
  },
  "language_info": {
   "name": ""
  }
 },
 "nbformat": 4,
 "nbformat_minor": 5
}
